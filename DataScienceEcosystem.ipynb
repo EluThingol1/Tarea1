{
 "cells": [
  {
   "cell_type": "markdown",
   "id": "da7c6d11-3604-4bcd-aa9e-104a8fb452b6",
   "metadata": {
    "tags": []
   },
   "source": [
    "# Data Science Tools and EcoSysten\n"
   ]
  },
  {
   "cell_type": "markdown",
   "id": "c7de64f6-c4fe-4953-9fb0-1dfef1e02ad5",
   "metadata": {},
   "source": [
    "In this notebook, Data Science Tools and Ecosystem are summarized."
   ]
  },
  {
   "cell_type": "markdown",
   "id": "2417c818-a5cc-4aeb-98ae-c5c0c903c57f",
   "metadata": {},
   "source": [
    "**In the following lines, we are going to review how to perform:**\n",
    "\n",
    "* Creating Tables\n",
    "* Simple Math Operations\n",
    "* Use of Bold\n",
    "* List of popular languages in data science\n",
    "\n"
   ]
  },
  {
   "cell_type": "markdown",
   "id": "a13eb368-96e3-4b4c-8407-a3888dc62d03",
   "metadata": {},
   "source": [
    "Some of the popular languages that Data Scientists use are:\n",
    "1. Python\n",
    "2. R\n",
    "3. SQL\n",
    "4. Java\n",
    "5. Go"
   ]
  },
  {
   "cell_type": "markdown",
   "id": "e6a1888f-1918-40cf-85ad-738c426196ab",
   "metadata": {},
   "source": [
    "Some of the commonly used libraries used by Data Scientists include:\n",
    "- NumPy\n",
    "- Pandas\n",
    "- Matplotlib\n",
    "- Seaborn\n",
    "- Scikit-learn"
   ]
  },
  {
   "cell_type": "markdown",
   "id": "6d23afc5-f0c7-46a4-a3e0-4cb82f510752",
   "metadata": {},
   "source": [
    "|Data Science Tools |\n",
    "|--------|\n",
    "|Jupyter|\n",
    "|RStudio|\n",
    "|Apache Hadoop|"
   ]
  },
  {
   "cell_type": "markdown",
   "id": "6a3fcfb3-7bb4-4d30-acd9-2a85504de3a5",
   "metadata": {},
   "source": [
    "### Below are a few examples of evaluating arithmetic expressions in Python\n"
   ]
  },
  {
   "cell_type": "code",
   "execution_count": 1,
   "id": "2c1da9ea-7719-4d82-84a4-b8504d8e4267",
   "metadata": {
    "tags": []
   },
   "outputs": [
    {
     "data": {
      "text/plain": [
       "96"
      ]
     },
     "execution_count": 1,
     "metadata": {},
     "output_type": "execute_result"
    }
   ],
   "source": [
    "# below is the operation of addition and multiplication\n",
    "12*(4+4)\n"
   ]
  },
  {
   "cell_type": "code",
   "execution_count": 5,
   "id": "8355d858-eab5-4a64-90d3-127d6bc2aafc",
   "metadata": {
    "tags": []
   },
   "outputs": [
    {
     "name": "stdout",
     "output_type": "stream",
     "text": [
      "200 minute is 3.3333333333333335 hours\n"
     ]
    }
   ],
   "source": [
    "# Converting minutes to hours\n",
    "minute = 200\n",
    "hour= minute / 60\n",
    "print (f\"{minute} minute is {hour} hours\")\n"
   ]
  },
  {
   "cell_type": "markdown",
   "id": "4d0cd706-e941-442e-818e-7fa55ca04f13",
   "metadata": {},
   "source": [
    "## Author:\n",
    "Pedro Ramirez"
   ]
  },
  {
   "cell_type": "code",
   "execution_count": null,
   "id": "80dfe78d-9027-4cae-bde5-58c9ae04b203",
   "metadata": {},
   "outputs": [],
   "source": []
  }
 ],
 "metadata": {
  "kernelspec": {
   "display_name": "Python",
   "language": "python",
   "name": "conda-env-python-py"
  },
  "language_info": {
   "codemirror_mode": {
    "name": "ipython",
    "version": 3
   },
   "file_extension": ".py",
   "mimetype": "text/x-python",
   "name": "python",
   "nbconvert_exporter": "python",
   "pygments_lexer": "ipython3",
   "version": "3.7.12"
  }
 },
 "nbformat": 4,
 "nbformat_minor": 5
}
